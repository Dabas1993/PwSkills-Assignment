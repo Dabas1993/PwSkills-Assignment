{
 "cells": [
  {
   "cell_type": "markdown",
   "id": "a5ec39e3-a997-4aad-9ffc-39d804f73261",
   "metadata": {},
   "source": [
    "Q1, Create a vehicle class with an init method having instance variables as name_of_vehicle, max_speed\n",
    "and average_of_vehicle."
   ]
  },
  {
   "cell_type": "code",
   "execution_count": 2,
   "id": "bbec1bf5-95f2-4c50-a0df-54765578aacd",
   "metadata": {},
   "outputs": [],
   "source": [
    "class vehicle:\n",
    "    def __init__(self, name_of_vehicle, max_speed, average_of_vehicle):\n",
    "        self.name_of_vehicle = name_of_vehicle\n",
    "        self.max_speed = max_speed\n",
    "        self.average_of_vehicle = average_of_vehicle\n",
    "        return \"Name of the Vehicle\""
   ]
  },
  {
   "cell_type": "markdown",
   "id": "c50f6b73-d809-4dae-be2a-2568a1aea6d5",
   "metadata": {},
   "source": [
    "Q2. Create a child class car from the vehicle class created in Que 1, which will inherit the vehicle class.\n",
    "Create a method named seating_capacity which takes capacity as an argument and returns the name of\n",
    "the vehicle and its seating capacity."
   ]
  },
  {
   "cell_type": "code",
   "execution_count": null,
   "id": "0dbdf8e1-6783-4d06-b911-d8b99dd0741d",
   "metadata": {},
   "outputs": [],
   "source": [
    "class car(vehicle):\n",
    "    pass\n",
    "class vehicle:    \n",
    "    def __init__(self, name_of_vehicle, max_speed, average_of_vehicle):\n",
    "        self.name_of_vehicle = name_of_vehicle\n",
    "        self.max_speed = max_speed\n",
    "        self.average_of_vehicle = average_of_vehicle\n",
    "        \n",
    "    def seating_capacity(self, capacity):\n",
    "        return f\"The seating capacity of a {self.name_of_vehicle} is {capacity} passengers\"\n",
    "class best_car(vehicle):\n",
    "    def seating_capacity(self, capacity=50):\n",
    "        return super().seating_capacity(capacity=50)"
   ]
  },
  {
   "cell_type": "code",
   "execution_count": null,
   "id": "199ee659-72ca-4126-9723-1ec30edc335a",
   "metadata": {},
   "outputs": [],
   "source": [
    "best_car1 = best_car(\"volvo\", 180, 12,)\n",
    "print(best_car.seating_capacity())"
   ]
  },
  {
   "cell_type": "markdown",
   "id": "7077d48a-bb71-4ff1-bc3f-86c96c553a2e",
   "metadata": {},
   "source": [
    "Q3. What is multiple inheritance? Write a python code to demonstrate multiple inheritance."
   ]
  },
  {
   "cell_type": "markdown",
   "id": "ce2b79ac-9765-4c8b-8298-eafd0839e4ad",
   "metadata": {},
   "source": [
    "In which an object or class can inherit features from more than one parent object or parent class is called multiple inheritance. example is given below:-"
   ]
  },
  {
   "cell_type": "code",
   "execution_count": null,
   "id": "e1e4aaec-e2bb-4650-a402-b70e922c2c11",
   "metadata": {},
   "outputs": [],
   "source": [
    "class class1:\n",
    "    def test_class1(self):\n",
    "        return \"This is class 1\""
   ]
  },
  {
   "cell_type": "code",
   "execution_count": null,
   "id": "cdf7ed9d-e624-490e-81ea-f48d31208b31",
   "metadata": {},
   "outputs": [],
   "source": [
    "class class2:\n",
    "    \n",
    "    def test_class2(self):\n",
    "        return\"this i my class2\""
   ]
  },
  {
   "cell_type": "code",
   "execution_count": null,
   "id": "6b1913c0-e5b4-434e-ade1-70cc89059cc7",
   "metadata": {},
   "outputs": [],
   "source": [
    "class class3(class1, class2):\n",
    "    pass"
   ]
  },
  {
   "cell_type": "code",
   "execution_count": null,
   "id": "e3ac005f-45e7-4c85-9413-b981e3360b38",
   "metadata": {},
   "outputs": [],
   "source": [
    "obj_class3 = class3()"
   ]
  },
  {
   "cell_type": "code",
   "execution_count": null,
   "id": "ea9b01ea-b317-483e-ad83-3fb437a9c2f6",
   "metadata": {},
   "outputs": [],
   "source": [
    "obj_class3.test_class1()"
   ]
  },
  {
   "cell_type": "markdown",
   "id": "c7294cde-5a6d-48e4-b7cb-41e7e1923594",
   "metadata": {},
   "source": [
    "Q4. What are getter and setter in python? Create a class and create a getter and a setter method in this\n",
    "class."
   ]
  },
  {
   "cell_type": "markdown",
   "id": "1461f4a1-16f1-453b-9984-6b338a3f4537",
   "metadata": {},
   "source": [
    "Getter: A method that allows you to access an attribute in a given class. Setter: A method that allows you to set or mutate the value of an attribute in a class. Example given below:-"
   ]
  },
  {
   "cell_type": "code",
   "execution_count": 39,
   "id": "5aede83a-b845-4184-89bd-da5872966650",
   "metadata": {},
   "outputs": [],
   "source": [
    "class year_graduated:\n",
    "    def __init__(self, year=0):\n",
    "        self._year = year\n",
    "    def get_year(self):\n",
    "        return self._year\n",
    "    def set_year(self, a):\n",
    "        self._year = a"
   ]
  },
  {
   "cell_type": "code",
   "execution_count": 40,
   "id": "6d65318f-2fef-4da6-98aa-329b9c005201",
   "metadata": {},
   "outputs": [
    {
     "name": "stdout",
     "output_type": "stream",
     "text": [
      "0\n"
     ]
    }
   ],
   "source": [
    "grad_obj = year_graduated()\n",
    "print(grad_obj.get_year())"
   ]
  },
  {
   "cell_type": "code",
   "execution_count": 41,
   "id": "923cd2ca-9160-4a10-b63e-dcb7571d7a1c",
   "metadata": {},
   "outputs": [
    {
     "name": "stdout",
     "output_type": "stream",
     "text": [
      "2019\n"
     ]
    }
   ],
   "source": [
    "grad_obj.set_year(2019)\n",
    "print(grad_obj._year)"
   ]
  },
  {
   "cell_type": "markdown",
   "id": "60168bea-219a-4d2a-a20c-382158a8eb48",
   "metadata": {},
   "source": [
    "Q5.What is method overriding in python? Write a python code to demonstrate method overriding."
   ]
  },
  {
   "cell_type": "markdown",
   "id": "b0ba6f40-a5af-4c52-8d77-60e209f65570",
   "metadata": {},
   "source": [
    "when you have two methods with the same name that each perform different tasks."
   ]
  },
  {
   "cell_type": "code",
   "execution_count": 44,
   "id": "d2746d22-6afe-41b4-9c73-657fea7473e1",
   "metadata": {},
   "outputs": [
    {
     "name": "stdout",
     "output_type": "stream",
     "text": [
      "Inside Parent\n",
      "Inside Child\n"
     ]
    }
   ],
   "source": [
    "class Parent():  \n",
    " \n",
    "    def __init__(self):  \n",
    "        self.value = \"Inside Parent\"  \n",
    "    \n",
    "    def show(self):  \n",
    "        print(self.value)         \n",
    " \n",
    "class Child(Parent):      \n",
    "    \n",
    "    def __init__(self):  \n",
    "        self.value = \"Inside Child\"       \n",
    "    \n",
    "    def show(self):  \n",
    "        print(self.value)  \n",
    "\n",
    "obj1 = Parent()  \n",
    "obj2 = Child()  \n",
    "obj1.show()  \n",
    "obj2.show()\n"
   ]
  },
  {
   "cell_type": "code",
   "execution_count": null,
   "id": "77201355-98c2-49ed-8383-591ba69b9a7b",
   "metadata": {},
   "outputs": [],
   "source": []
  }
 ],
 "metadata": {
  "kernelspec": {
   "display_name": "Python 3 (ipykernel)",
   "language": "python",
   "name": "python3"
  },
  "language_info": {
   "codemirror_mode": {
    "name": "ipython",
    "version": 3
   },
   "file_extension": ".py",
   "mimetype": "text/x-python",
   "name": "python",
   "nbconvert_exporter": "python",
   "pygments_lexer": "ipython3",
   "version": "3.10.8"
  }
 },
 "nbformat": 4,
 "nbformat_minor": 5
}
