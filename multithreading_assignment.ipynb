{
 "cells": [
  {
   "cell_type": "markdown",
   "id": "1c05bb9f-2713-4f44-b062-311bd6cc83db",
   "metadata": {},
   "source": [
    "Ans - 1 Multithreading is defined as the ability of a processor to execute multiple threads concurrently. In a simple, single-core CPU, it is achieved using frequent switching between threads.\n",
    "\n",
    "Multithreading in Python allows the concurrent and parallel occurrence of various tasks. It causes a reduction in time consumption or response time, thereby increasing the performance.\n",
    "\n",
    "Start(), run(), join() are the basic class of multithreading module. Example is given below:-"
   ]
  },
  {
   "cell_type": "code",
   "execution_count": 5,
   "id": "a062c5c8-5d90-401d-8194-f31b740ae17a",
   "metadata": {},
   "outputs": [
    {
     "name": "stdout",
     "output_type": "stream",
     "text": [
      "Hello, How are you 20\n",
      "Thankyou\n"
     ]
    }
   ],
   "source": [
    "import threading\n",
    "def print_hello(n):\n",
    "    print(\"Hello, How are you\", n)\n",
    "t1 = threading.Thread(target = print_hello, args=(20,))\n",
    "t1.start()\n",
    "t1.join()\n",
    "print(\"Thankyou\")"
   ]
  },
  {
   "cell_type": "markdown",
   "id": "ef236f2b-1611-4902-9292-b5a29314f14a",
   "metadata": {},
   "source": [
    "Ans - 2\n",
    "\n",
    "Python threading allows you to have different parts of your program run concurrently and can simplify your design\n",
    "\n",
    "a. activecount() - Python threading allows you to have different parts of your program run concurrently and can simplify your design\n",
    "\n",
    "b. currentThread() :- current_thread() is an inbuilt method of the threading module, it is used to return the current Thread object, which corresponds to the caller's thread of control.\n",
    "\n",
    "c. enumerate():- The enumerate() function adds a counter as the key of the enumerate object."
   ]
  },
  {
   "cell_type": "code",
   "execution_count": 7,
   "id": "36cac20c-afe0-4b92-b269-855455e6ad23",
   "metadata": {},
   "outputs": [
    {
     "name": "stdout",
     "output_type": "stream",
     "text": [
      "Hello, how old are you?  20\n",
      "Thank you\n"
     ]
    }
   ],
   "source": [
    "# Ans- 3\n",
    "\n",
    "# use of start(),join() \n",
    "\n",
    "\n",
    "import threading  \n",
    "def print_hello(n):  \n",
    "    print(\"Hello, how old are you? \", n)  \n",
    "T1 = threading.Thread( target = print_hello, args = (20, ))  \n",
    "T1.start()  \n",
    "T1.join()  \n",
    "print(\"Thank you\")  \n"
   ]
  },
  {
   "cell_type": "code",
   "execution_count": 11,
   "id": "bce80551-a7cb-4793-a4f1-5f2f408bd7be",
   "metadata": {},
   "outputs": [
    {
     "name": "stdout",
     "output_type": "stream",
     "text": [
      "This is my custom run!\n"
     ]
    }
   ],
   "source": [
    "# use of run()\n",
    "\n",
    "import threading\n",
    "\n",
    "class CustomThread(threading.Thread):\n",
    "    def run(self):\n",
    "        print(\"This is my custom run!\")\n",
    "\n",
    "custom_thread = CustomThread()\n",
    "custom_thread.start()\n"
   ]
  },
  {
   "cell_type": "code",
   "execution_count": 12,
   "id": "c6d558b0-2403-48c5-8826-cb2efc7dad01",
   "metadata": {},
   "outputs": [
    {
     "name": "stdout",
     "output_type": "stream",
     "text": [
      "Thread Alive? True\n",
      "Counting down....\n",
      "5 left\n",
      "4 left\n",
      "3 left\n",
      "2 left\n",
      "1 left\n",
      "We made it !\n",
      "Thread Alive? False\n",
      "End of the Program\n"
     ]
    }
   ],
   "source": [
    "# use of Alive()\n",
    "\n",
    "import threading\n",
    "\n",
    "def countdown(count):\n",
    "    print(f'Thread Alive? {thread.is_alive()}')\n",
    "    print(\"Counting down....\")\n",
    "    while count > 0:\n",
    "        print(f'{count} left')\n",
    "        count -= 1 \n",
    "    print(\"We made it !\")\n",
    "    \n",
    "thread = threading.Thread(target = countdown, args=(5,))\n",
    "\n",
    "thread.start()\n",
    "thread.join()\n",
    "\n",
    "print(f'Thread Alive? {thread.is_alive()}')\n",
    "print(\"End of the Program\")"
   ]
  },
  {
   "cell_type": "code",
   "execution_count": 17,
   "id": "36f10af4-1187-422f-a182-d67b4bb475ef",
   "metadata": {},
   "outputs": [
    {
     "name": "stdout",
     "output_type": "stream",
     "text": [
      "\n",
      "2 ^ 2 = 4\n",
      "\n",
      "3 ^ 2 = 9\n",
      "\n",
      "5 ^ 2 = 25\n",
      "\n",
      "8 ^ 2 = 64\n",
      "\n",
      "2 ^ 3 = 8\n",
      "\n",
      "3 ^ 3 = 27\n",
      "\n",
      "5 ^ 3 = 125\n",
      "\n",
      "8 ^ 3 = 512\n",
      "\n",
      "2 ^ 2 = 4\n",
      "\n",
      "3 ^ 2 = 9\n",
      "\n",
      "5 ^ 2 = 25\n",
      "\n",
      "8 ^ 2 = 64\n",
      "\n",
      "2 ^ 3 = 8\n",
      "\n",
      "3 ^ 3 = 27\n",
      "\n",
      "5 ^ 3 = 125\n",
      "\n",
      "8 ^ 3 = 512\n"
     ]
    }
   ],
   "source": [
    "# Ans - 4   write a python program to create two threads. Thread one must print the list of squares and thread\n",
    "#two must print the list of cubes.\n",
    "\n",
    "import threading\n",
    "import time\n",
    "\n",
    "def calc_square(numbers):\n",
    "    for n in numbers:\n",
    "        print(f'\\n{n} ^ 2 = {n*n}')\n",
    "\n",
    "def calc_cube(numbers):\n",
    "    for n in numbers:\n",
    "        print(f'\\n{n} ^ 3 = {n*n*n}')\n",
    "\n",
    "numbers = [2, 3, 5, 8]\n",
    "calc_square(numbers)\n",
    "calc_cube(numbers)\n",
    "\n",
    "square_thread = threading.Thread(target=calc_square, args = (numbers,))\n",
    "cube_thread = threading.Thread(target = calc_cube, args = (numbers,))\n",
    "\n",
    "square_thread.start()\n",
    "cube_thread.start()\n",
    "\n",
    "square_thread.join()\n",
    "cube_thread.join()\n",
    "\n"
   ]
  },
  {
   "cell_type": "markdown",
   "id": "7ef1c227-c2fd-40a4-b210-a828bb4eed88",
   "metadata": {},
   "source": [
    "Ans - 5\n",
    "Advantage of Multithreading:-\n",
    "\n",
    "Enhanced performance by decreased development time\n",
    "Simplified and streamlined program coding\n",
    "Improvised GUI responsiveness\n",
    "Simultaneous and parallelized occurrence of tasks\n",
    "Better use of cache storage by utilization of resources\n",
    "Decreased cost of maintenance\n",
    "Better use of CPU resource\n",
    "\n",
    "Disadvantage of threading:-\n",
    "\n",
    "Complex debugging and testing processes\n",
    "Overhead switching of context\n",
    "Increased potential for deadlock occurrence\n",
    "Increased difficulty level in writing a program\n",
    "Unpredictable results\n",
    "\n",
    "\n"
   ]
  },
  {
   "cell_type": "markdown",
   "id": "75072b93-2a79-452c-8e19-aa2ef37fc4f0",
   "metadata": {},
   "source": [
    "Ans - 6\n",
    "\n",
    "Both share some similarities, such as they both occur in multi-thread solutions and hamper device performance. However, both are not the same. A race condition occurs when two threads use the same variable at a given time. Deadlock exists when two threads seek one lock simultaneously\n",
    "\n"
   ]
  },
  {
   "cell_type": "code",
   "execution_count": null,
   "id": "d2761e27-553c-478b-bfd0-821bcb75bb6a",
   "metadata": {},
   "outputs": [],
   "source": []
  }
 ],
 "metadata": {
  "kernelspec": {
   "display_name": "Python 3 (ipykernel)",
   "language": "python",
   "name": "python3"
  },
  "language_info": {
   "codemirror_mode": {
    "name": "ipython",
    "version": 3
   },
   "file_extension": ".py",
   "mimetype": "text/x-python",
   "name": "python",
   "nbconvert_exporter": "python",
   "pygments_lexer": "ipython3",
   "version": "3.10.8"
  }
 },
 "nbformat": 4,
 "nbformat_minor": 5
}
