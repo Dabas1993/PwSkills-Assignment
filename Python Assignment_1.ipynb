{
 "cells": [
  {
   "cell_type": "markdown",
   "id": "e39f15ab-67d7-4801-afb7-0066143e5865",
   "metadata": {},
   "source": [
    "Ans - 1:- def keyword is used to define function"
   ]
  },
  {
   "cell_type": "code",
   "execution_count": 1,
   "id": "604a272d-e85d-4067-90bb-8cd299078c0c",
   "metadata": {},
   "outputs": [
    {
     "name": "stdout",
     "output_type": "stream",
     "text": [
      "[1, 3, 5, 7, 9, 11, 13, 15, 17, 19, 21, 23, 25]\n"
     ]
    }
   ],
   "source": [
    "li=[1,2,3,4,5,6,7,8,9,10,11,12,13,14,15,16,17,18,19,20,21,22,23,24,25,26]\n",
    "odd_num = list(filter(lambda x: (x%2!=0),li)) \n",
    "print(odd_num)"
   ]
  },
  {
   "cell_type": "markdown",
   "id": "50b53550-7751-4758-90e7-ec1afeb5ee8e",
   "metadata": {},
   "source": [
    "Ans - 2"
   ]
  },
  {
   "cell_type": "code",
   "execution_count": 2,
   "id": "5e358c2c-d700-4613-b2fa-9652acc3ef60",
   "metadata": {},
   "outputs": [],
   "source": [
    "def test1(*args):\n",
    "    return args"
   ]
  },
  {
   "cell_type": "code",
   "execution_count": 3,
   "id": "b7128555-e253-4c8c-98c5-b047101efe4e",
   "metadata": {},
   "outputs": [
    {
     "data": {
      "text/plain": [
       "()"
      ]
     },
     "execution_count": 3,
     "metadata": {},
     "output_type": "execute_result"
    }
   ],
   "source": [
    "test1()"
   ]
  },
  {
   "cell_type": "code",
   "execution_count": 4,
   "id": "9cd7e3da-b64d-49e0-b276-6847d8cf282e",
   "metadata": {},
   "outputs": [
    {
     "data": {
      "text/plain": [
       "tuple"
      ]
     },
     "execution_count": 4,
     "metadata": {},
     "output_type": "execute_result"
    }
   ],
   "source": [
    "type(test1())"
   ]
  },
  {
   "cell_type": "code",
   "execution_count": 5,
   "id": "c15c6cd6-2ee2-4357-b099-e8679bb911e0",
   "metadata": {},
   "outputs": [],
   "source": [
    "def test(**kwargs):\n",
    "    return kwargs"
   ]
  },
  {
   "cell_type": "code",
   "execution_count": 6,
   "id": "c2afcce2-72a0-45b4-807a-c7ae472bf978",
   "metadata": {},
   "outputs": [
    {
     "data": {
      "text/plain": [
       "{}"
      ]
     },
     "execution_count": 6,
     "metadata": {},
     "output_type": "execute_result"
    }
   ],
   "source": [
    "test()"
   ]
  },
  {
   "cell_type": "code",
   "execution_count": 7,
   "id": "6665ccf4-f357-4705-8b77-6813e6090e80",
   "metadata": {},
   "outputs": [
    {
     "data": {
      "text/plain": [
       "dict"
      ]
     },
     "execution_count": 7,
     "metadata": {},
     "output_type": "execute_result"
    }
   ],
   "source": [
    "type(test())"
   ]
  },
  {
   "cell_type": "markdown",
   "id": "c15feeb4-d56c-4f76-aff4-9ea6c213a5ab",
   "metadata": {},
   "source": [
    "Ans - 3"
   ]
  },
  {
   "cell_type": "markdown",
   "id": "2b392eb1-525d-4d40-b433-d80e40b00faf",
   "metadata": {},
   "source": [
    "Iterator is an object that allows you to iterate over collections of data, such as lists, tuples, dictionaries, and sets.for ex. - string is iterable but integar is not iterable object.\n",
    "iter() is used to intilize the object can be used for iterating"
   ]
  },
  {
   "cell_type": "code",
   "execution_count": 8,
   "id": "7ef99378-df83-4ba0-80e8-b7ff6f0d6521",
   "metadata": {},
   "outputs": [
    {
     "ename": "SyntaxError",
     "evalue": "invalid syntax. Perhaps you forgot a comma? (2348092715.py, line 2)",
     "output_type": "error",
     "traceback": [
      "\u001b[0;36m  Cell \u001b[0;32mIn[8], line 2\u001b[0;36m\u001b[0m\n\u001b[0;31m    iter(list range(0,5))\u001b[0m\n\u001b[0m         ^\u001b[0m\n\u001b[0;31mSyntaxError\u001b[0m\u001b[0;31m:\u001b[0m invalid syntax. Perhaps you forgot a comma?\n"
     ]
    }
   ],
   "source": [
    "list = [2, 4, 6, 8, 10, 12, 14, 16, 18, 20]\n",
    "iter(list range(0,5))"
   ]
  },
  {
   "cell_type": "code",
   "execution_count": null,
   "id": "6813acc3-77c1-443f-8ea5-3b43b38de98e",
   "metadata": {},
   "outputs": [],
   "source": [
    "class MyNumbers:\n",
    "  def __iter__(self):\n",
    "    self.a = 1\n",
    "    return self\n",
    "\n",
    "  def __next__(self):\n",
    "    x = self.a\n",
    "    self.a += 1\n",
    "    return x\n",
    "\n",
    "myclass = MyNumbers()\n",
    "myiter = iter(myclass)\n",
    "\n",
    "print(next(myiter))\n",
    "print(next(myiter))\n",
    "print(next(myiter))\n",
    "print(next(myiter))\n",
    "print(next(myiter))"
   ]
  },
  {
   "cell_type": "markdown",
   "id": "8d16a197-a4a4-4cea-9cb3-0986eb6cde18",
   "metadata": {},
   "source": [
    "Ans-4 - Generator Function allow us to declare a function that behaves like an iterator, providing a faster and easier way to create iterators. It can be used on an abstract container of data to turn it into an iterable object like lists, dictionaries and strings\n",
    "yield keyword is used to create a generator function\n",
    "Example is given below:-"
   ]
  },
  {
   "cell_type": "code",
   "execution_count": null,
   "id": "f30aa99e-f115-4d35-9e4f-c64953e42121",
   "metadata": {},
   "outputs": [],
   "source": [
    "def test_fib(n):\n",
    "    a,b = 0,1\n",
    "    for i in range(n):\n",
    "        yield a\n",
    "        a,b =b, a+b"
   ]
  },
  {
   "cell_type": "code",
   "execution_count": null,
   "id": "6f31cb9d-68a8-4400-9441-82251ba4ebb7",
   "metadata": {},
   "outputs": [],
   "source": [
    "test_fib(10)"
   ]
  },
  {
   "cell_type": "code",
   "execution_count": null,
   "id": "eb7162c6-9d5a-456d-9e26-95fe62546bad",
   "metadata": {},
   "outputs": [],
   "source": [
    "for i in test_fib(5):\n",
    "    print(i)"
   ]
  },
  {
   "cell_type": "markdown",
   "id": "b3b4e002-f766-44a8-a44f-5d407f4c5d30",
   "metadata": {},
   "source": [
    "Ans- 5 "
   ]
  },
  {
   "cell_type": "code",
   "execution_count": null,
   "id": "096f22ea-7d16-4e9b-97a0-3ae27bfd414e",
   "metadata": {},
   "outputs": [],
   "source": [
    "for x in range(1,101):\n",
    "    for y in range(2,x):\n",
    "        if x%y==0:break\n",
    "    else:\n",
    "        print (x,sep=' ', end=' ')"
   ]
  },
  {
   "cell_type": "markdown",
   "id": "2ab20565-7335-41d8-aba8-20c109e608d4",
   "metadata": {},
   "source": [
    "Ans-6:"
   ]
  },
  {
   "cell_type": "code",
   "execution_count": null,
   "id": "1034f54f-97db-4657-94b2-ac9bc96d08a1",
   "metadata": {},
   "outputs": [],
   "source": [
    "def test_fib1():\n",
    "    a,b = 0,1\n",
    "    while True:\n",
    "        yield a\n",
    "        a,b = b, a+b"
   ]
  },
  {
   "cell_type": "code",
   "execution_count": null,
   "id": "14ceac89-bf56-4ff1-8196-b099bdfa9ce4",
   "metadata": {},
   "outputs": [],
   "source": [
    "def test_fib1():\n",
    "    a,b=0,1\n",
    "    while True:\n",
    "        yield a\n",
    "        a,b=b, a+b"
   ]
  },
  {
   "cell_type": "code",
   "execution_count": null,
   "id": "14cf0f0b-a6ce-426d-ba3a-e6dbb871cd87",
   "metadata": {},
   "outputs": [],
   "source": [
    "fib = test_fib1()"
   ]
  },
  {
   "cell_type": "code",
   "execution_count": null,
   "id": "e2087e04-f200-4fff-827c-58aaded4082d",
   "metadata": {},
   "outputs": [],
   "source": [
    "for i in range(10):\n",
    "    print(next(fib))"
   ]
  },
  {
   "cell_type": "markdown",
   "id": "84d8f8ce-63b7-44e5-9745-b1cf04e3a94e",
   "metadata": {},
   "source": [
    "Ans-7"
   ]
  },
  {
   "cell_type": "code",
   "execution_count": 12,
   "id": "91bb6b11-57c1-4bac-818a-c31bc615fb8b",
   "metadata": {},
   "outputs": [
    {
     "name": "stdout",
     "output_type": "stream",
     "text": [
      "['p', 'w', 's', 'k', 'i', 'l', 'l', 's']\n"
     ]
    }
   ],
   "source": [
    "l = []\n",
    "for letter in \"pwskills\":\n",
    "    l.append(letter)\n",
    "print(l)"
   ]
  },
  {
   "cell_type": "markdown",
   "id": "4e588f43-2098-42d0-875f-91e413e16ffc",
   "metadata": {},
   "source": [
    "Ans-8 By Slicing Method"
   ]
  },
  {
   "cell_type": "code",
   "execution_count": 13,
   "id": "95341124-9e2d-43af-89ef-d80b6080f922",
   "metadata": {},
   "outputs": [
    {
     "name": "stdout",
     "output_type": "stream",
     "text": [
      "Not Palindrome\n"
     ]
    }
   ],
   "source": [
    "num = 5678\n",
    "reverse = int(str(num)[::-1])\n",
    "if num == reverse:\n",
    "    print('Palindrome')\n",
    "else:\n",
    "    print('Not Palindrome')"
   ]
  },
  {
   "cell_type": "markdown",
   "id": "16a3860e-3fcb-4f7d-9055-ff665ab19c69",
   "metadata": {},
   "source": [
    "Ans-9"
   ]
  },
  {
   "cell_type": "code",
   "execution_count": 18,
   "id": "d13db6b7-07af-4ee2-886a-ebc633bac4b8",
   "metadata": {},
   "outputs": [],
   "source": [
    "numbers = [ x for x in range(101) ]"
   ]
  },
  {
   "cell_type": "code",
   "execution_count": 29,
   "id": "fe168543-74f4-419b-bde1-6a15f47b906a",
   "metadata": {},
   "outputs": [
    {
     "name": "stdout",
     "output_type": "stream",
     "text": [
      "List : [0, 1, 2, 3, 4, 5, 6, 7, 8, 9, 10, 11, 12, 13, 14, 15, 16, 17, 18, 19, 20, 21, 22, 23, 24, 25, 26, 27, 28, 29, 30, 31, 32, 33, 34, 35, 36, 37, 38, 39, 40, 41, 42, 43, 44, 45, 46, 47, 48, 49, 50, 51, 52, 53, 54, 55, 56, 57, 58, 59, 60, 61, 62, 63, 64, 65, 66, 67, 68, 69, 70, 71, 72, 73, 74, 75, 76, 77, 78, 79, 80, 81, 82, 83, 84, 85, 86, 87, 88, 89, 90, 91, 92, 93, 94, 95, 96, 97, 98, 99, 100]\n"
     ]
    }
   ],
   "source": [
    "print('List :', numbers)"
   ]
  },
  {
   "cell_type": "code",
   "execution_count": 27,
   "id": "2e55abfb-ee6b-422d-9680-a4b947edf615",
   "metadata": {},
   "outputs": [
    {
     "name": "stdout",
     "output_type": "stream",
     "text": [
      "Filtered List : [1, 3, 5, 7, 9, 11, 13, 15, 17, 19, 21, 23, 25, 27, 29, 31, 33, 35, 37, 39, 41, 43, 45, 47, 49, 51, 53, 55, 57, 59, 61, 63, 65, 67, 69, 71, 73, 75, 77, 79, 81, 83, 85, 87, 89, 91, 93, 95, 97, 99]\n"
     ]
    }
   ],
   "source": [
    "def odd(x):\n",
    "    return x % 2 == 1\n",
    "result = filter(odd, numbers)\n",
    "print('Filtered List :', list(result))"
   ]
  },
  {
   "cell_type": "code",
   "execution_count": null,
   "id": "c22c55d0-78df-4518-8f07-28191dbe6ca3",
   "metadata": {},
   "outputs": [],
   "source": []
  }
 ],
 "metadata": {
  "kernelspec": {
   "display_name": "Python 3 (ipykernel)",
   "language": "python",
   "name": "python3"
  },
  "language_info": {
   "codemirror_mode": {
    "name": "ipython",
    "version": 3
   },
   "file_extension": ".py",
   "mimetype": "text/x-python",
   "name": "python",
   "nbconvert_exporter": "python",
   "pygments_lexer": "ipython3",
   "version": "3.10.8"
  }
 },
 "nbformat": 4,
 "nbformat_minor": 5
}
