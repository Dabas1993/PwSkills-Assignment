{
 "cells": [
  {
   "cell_type": "markdown",
   "id": "33512f98-f3ed-4ae7-8543-1051130dbada",
   "metadata": {},
   "source": [
    "Q1. What is Abstraction in OOps? Explain with an example.\n",
    "\n",
    "Ans:- it is used to hide the internal functionality of the function from the users. The users only interact with the basic implementation of the function, but inner working is hidden. User is familiar with that \"what function does\" but they don't know \"how it does.\" Example given below:-"
   ]
  },
  {
   "cell_type": "code",
   "execution_count": 8,
   "id": "8a6a13e8-3d17-4987-a43c-8513bb28d0b0",
   "metadata": {},
   "outputs": [],
   "source": [
    "from abc import ABC\n",
    "\n",
    "class car(ABC):\n",
    "    def mileage(self):\n",
    "        pass\n",
    "    \n",
    "class Tesla(car):\n",
    "    def mileage(self):\n",
    "        print('The mileage is 30 Kmph')\n",
    "        \n",
    "class suzuki(car):\n",
    "    def mileage(self):\n",
    "        print('The mileage is 50 kmph')\n",
    "\n",
    "class duster(car):\n",
    "    def mileage(self):\n",
    "        print('The mileage is 80 Kmph')"
   ]
  },
  {
   "cell_type": "code",
   "execution_count": 9,
   "id": "626ce5fa-b1c3-472e-996b-ed4e1dc29bd9",
   "metadata": {},
   "outputs": [
    {
     "data": {
      "text/plain": [
       "<bound method duster.mileage of <__main__.duster object at 0x7ff7042a6080>>"
      ]
     },
     "execution_count": 9,
     "metadata": {},
     "output_type": "execute_result"
    }
   ],
   "source": [
    "t = Tesla()\n",
    "t.mileage\n",
    "\n",
    "s = suzuki()\n",
    "s.mileage\n",
    "\n",
    "d = duster()\n",
    "d.mileage"
   ]
  },
  {
   "cell_type": "code",
   "execution_count": 12,
   "id": "896ce1c2-8eff-410b-94d3-adb33524fee5",
   "metadata": {},
   "outputs": [
    {
     "name": "stdout",
     "output_type": "stream",
     "text": [
      "The mileage is 50 kmph\n",
      "The mileage is 30 Kmph\n",
      "The mileage is 80 Kmph\n"
     ]
    }
   ],
   "source": [
    "s.mileage()\n",
    "t.mileage()\n",
    "d.mileage()"
   ]
  },
  {
   "cell_type": "markdown",
   "id": "50750c46-328c-4eae-981a-e8bf38a00d03",
   "metadata": {},
   "source": [
    "Q2. Differentiate between Abstraction and Encapsulation. Explain with an example.\n",
    "\n",
    "Ans. - Abstraction is used to hide the internal functionality of the function from the users. The users only interact with the basic implementation of the function, but inner working is hidden. User is familiar with that \"what function does\" but they don't know \"how it does.\". Example is already mentioned in above code.\n",
    "\n",
    "Encapsulation: -  The variables of a class will be hidden from other classes, and can be accessed only through the methods of their current class. Example given below:-\n"
   ]
  },
  {
   "cell_type": "code",
   "execution_count": 22,
   "id": "fbb13dbc-f35c-4af2-8ac9-5f562f8e7522",
   "metadata": {},
   "outputs": [],
   "source": [
    "class students:\n",
    "    def __init__(self, name, rank, marks):\n",
    "        self.name = name\n",
    "        self.rank = rank\n",
    "        self.marks = marks\n",
    "    \n",
    "    def demofunc(self):\n",
    "        print('I am', self.name)\n",
    "        print('I got rank', self.rank)"
   ]
  },
  {
   "cell_type": "code",
   "execution_count": 23,
   "id": "3db6e5af-8ea0-4ffc-b291-db79de48c2e8",
   "metadata": {},
   "outputs": [],
   "source": [
    "st1 = students('radha', 3, 35)\n",
    "st2 = students('seema', 1, 85)\n",
    "st3 = students('sneha', 5, 68)\n",
    "st4 = students('reena', 2, 73)"
   ]
  },
  {
   "cell_type": "code",
   "execution_count": 25,
   "id": "4d14fe7e-9c25-4fdb-9105-a926e93a9099",
   "metadata": {},
   "outputs": [
    {
     "name": "stdout",
     "output_type": "stream",
     "text": [
      "I am radha\n",
      "I got rank 3\n",
      "I am seema\n",
      "I got rank 1\n",
      "I am sneha\n",
      "I got rank 5\n",
      "I am reena\n",
      "I got rank 2\n"
     ]
    }
   ],
   "source": [
    "st1.demofunc()\n",
    "st2.demofunc()\n",
    "st3.demofunc()\n",
    "st4.demofunc()\n",
    "\n",
    "\n"
   ]
  },
  {
   "cell_type": "markdown",
   "id": "b2511594-edb8-4b4b-ab8d-0cb9c164b30f",
   "metadata": {},
   "source": [
    "Q3. What is abc module in python? Why is it used?\n",
    "\n",
    "Ans.-\n",
    "The 'abc' module in Python library provides the infrastructure for defining custom abstract base classes.\n",
    "'abc' works by marking methods of the base class as abstract. This is done by @absttractmethod decorator.\n",
    "bstract base class may have more than one abstract methods. The child class must implement all of them failing which TypeError will be raised. the abc module also defines ABC helper class which can be used instead of ABCMeta class in definition of abstract base class."
   ]
  },
  {
   "cell_type": "markdown",
   "id": "4d7b2113-f076-4344-ba07-c5a900f5b014",
   "metadata": {},
   "source": [
    "Q4. How can we achieve data abstraction?\n",
    "\n",
    "Ans. abstraction is achieved by using the abstract keyword for classes and interfaces. "
   ]
  },
  {
   "cell_type": "markdown",
   "id": "ab66717e-eab9-4269-82dd-c70d7645382e",
   "metadata": {},
   "source": [
    "Q5. Can we create an instance of an abstract class? Explain your answer.\n",
    "\n",
    "Ans - Abstract classes cannot be instantiated, but they can be subclassed. When an abstract class is subclassed, the subclass usually provides implementations for all of the abstract methods in its parent class."
   ]
  }
 ],
 "metadata": {
  "kernelspec": {
   "display_name": "Python 3 (ipykernel)",
   "language": "python",
   "name": "python3"
  },
  "language_info": {
   "codemirror_mode": {
    "name": "ipython",
    "version": 3
   },
   "file_extension": ".py",
   "mimetype": "text/x-python",
   "name": "python",
   "nbconvert_exporter": "python",
   "pygments_lexer": "ipython3",
   "version": "3.10.8"
  }
 },
 "nbformat": 4,
 "nbformat_minor": 5
}
