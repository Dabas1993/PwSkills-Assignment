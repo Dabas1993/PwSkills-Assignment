{
 "cells": [
  {
   "cell_type": "markdown",
   "id": "4a2c7033-561b-4072-afb9-f650118d1bdf",
   "metadata": {},
   "source": [
    "## MYSQL Assignment"
   ]
  },
  {
   "cell_type": "markdown",
   "id": "64c30cf8-e125-4d8e-ae37-58c49b90c8b8",
   "metadata": {},
   "source": [
    "Ans - 1 \n",
    "Database is the collection of organized data that is structured and stored electronically on a computer system. Databases can store data in the form of tables depending upon the type of database. The database's primary goal is to store a huge amount of data.\n",
    "SQL Database:- Databases are categorized as Relational Database Management System (RDBMS), SQL databases have fixed or static or predefined schema., SQL databases display data in form of tables so it is known as table-based database.\n",
    "No SQL Database:- NoSQL databases are categorized as Non-relational or distributed database system.,NoSQL databases have dynamic schema.,NoSQL databases display data as collection of key-value pair, documents, graph databases or wide-column stores."
   ]
  },
  {
   "cell_type": "markdown",
   "id": "6aa14913-b9f4-4bd9-a8c7-060db4d9a628",
   "metadata": {},
   "source": [
    "Ans - 2\n",
    "Data definition language (DDL) describes the portion of SQL that creates, alters, and deletes database objects. These database objects include schemas, tables, views, sequences, catalogs, indexes, variables, masks, permissions, and aliases.\n",
    "1. CREATE is a DDL command used to create databases, tables, triggers and other database objects.Syntax of Create Command\n",
    "    CREATE Database Database_Name;  \n",
    "2. DROP is a DDL command used to delete/remove the database objects from the SQL database. We can easily remove the entire table, view, or index from the database using this DDL command.Syntax of Drop Command:-\n",
    "    DROP DATABASE Database_Name;  \n",
    "3. ALTER is a DDL command which changes or modifies the existing structure of the database, and it also changes the schema of database objects.Syntax of Alter Command:-\n",
    "    ALTER TABLE name_of_table ADD column_name column_definition;  \n",
    "4. TRUNCATE is another DDL command which deletes or removes all the records from the table. Syntax of TRUNCATE Command:-\n",
    "    TRUNCATE TABLE Table_Name;  "
   ]
  },
  {
   "cell_type": "markdown",
   "id": "2b2224a8-5c69-438f-bdd0-5e5832523312",
   "metadata": {},
   "source": [
    "Ans-3 \n",
    "The DML commands in Structured Query Language change the data present in the SQL database. We can easily access, store, modify, update and delete the existing records from the database using DML commands.\n",
    "1. SELECT is the most important data manipulation command in Structured Query Language. The SELECT command shows the records of the specified table. It also shows the particular record of a particular column by using the WHERE clause.\n",
    "    SELECT column_Name_1, column_Name_2, ….., column_Name_N FROM Name_of_table;  \n",
    "2. INSERT is another most important data manipulation command in Structured Query Language, which allows users to insert data in database tables.\n",
    "    INSERT INTO TABLE_NAME ( column_Name1 , column_Name2 , column_Name3 , .... column_NameN )  VALUES (value_1, value_2, value_3, .... value_N ) ;   \n",
    "3. DELETE is a DML command which allows SQL users to remove single or multiple existing records from the database tables.\n",
    "    DELETE FROM Table_Name WHERE condition;  "
   ]
  },
  {
   "cell_type": "markdown",
   "id": "3b8e59d4-6794-41a4-9d80-5825c80eb5ee",
   "metadata": {},
   "source": [
    "Ans -4 \n",
    "DQL is used to fetch the data from the database.It uses only one command:\n",
    "SELECT\n",
    " SELECT: This is the same as the projection operation of relational algebra. It is used to select the attribute based on the condition described by WHERE clause.\n",
    " SELECT expressions    \n",
    "FROM TABLES    \n",
    "WHERE conditions;  \n",
    "\n",
    "For Example:-\n",
    "SELECT emp_name  \n",
    "FROM employee  \n",
    "WHERE age > 20;  \n"
   ]
  },
  {
   "cell_type": "markdown",
   "id": "f266318e-b44e-4da5-8068-2fbee0d63e51",
   "metadata": {},
   "source": [
    "Ans-5 \n",
    "Primary Key: - The primary key is a unique or non-null key that uniquely identifies every record in a table or relation. Each database needs a unique identifier for every row of a table, and the primary key plays a vital role in identifying rows in the table uniquely. The primary key column can't store duplicate values. It is also called a minimal super key; therefore, we cannot specify more than one primary key in any relationship\n",
    "\n",
    "Foreign Key: - The foreign key is a group of one or more columns in a database to uniquely identify another database record in some other table to maintain the referential integrity. It is also known as the referencing key that establishes a relationship between two different tables in a database. A foreign key always matches the primary key column in another table. It means a foreign key column in one table refers to the primary key column of another table. A foreign key is beneficial in relational database normalization, especially when we need to access records from other tables.\n",
    "\n",
    "The main difference between them is that the primary key identifies each record in the table, whereas the foreign key is used to link two tables together."
   ]
  },
  {
   "cell_type": "code",
   "execution_count": null,
   "id": "543c8854-5161-4886-8604-d8f2872113c9",
   "metadata": {},
   "outputs": [],
   "source": [
    "#Ans- 6\n",
    "import mysql.connector\n",
    "conn = mysql.connector.connect(user='root', password='password', host='127.0.0.1', database='mydatabase')\n",
    "cursor=conn.cursor()"
   ]
  },
  {
   "cell_type": "code",
   "execution_count": null,
   "id": "da0ffe4e-5ea4-4764-8711-fac984fa2cca",
   "metadata": {},
   "outputs": [],
   "source": [
    "Ans- 7\n",
    "ORDER BY\n",
    "FROM, WHERE, GROUP BY, HAVING, SELECT, ORDER BY, LIMIT"
   ]
  }
 ],
 "metadata": {
  "kernelspec": {
   "display_name": "Python 3 (ipykernel)",
   "language": "python",
   "name": "python3"
  },
  "language_info": {
   "codemirror_mode": {
    "name": "ipython",
    "version": 3
   },
   "file_extension": ".py",
   "mimetype": "text/x-python",
   "name": "python",
   "nbconvert_exporter": "python",
   "pygments_lexer": "ipython3",
   "version": "3.10.8"
  }
 },
 "nbformat": 4,
 "nbformat_minor": 5
}
