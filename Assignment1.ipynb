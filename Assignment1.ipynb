{
 "cells": [
  {
   "cell_type": "markdown",
   "id": "c8716498-bdd6-4a2d-ae53-4f0869541ea4",
   "metadata": {},
   "source": [
    "Ans-1 - Variable Containing String, List, Float, Tuple"
   ]
  },
  {
   "cell_type": "code",
   "execution_count": 1,
   "id": "6def1f09-536b-4b0b-8ff4-052645bd34a7",
   "metadata": {},
   "outputs": [],
   "source": [
    "s=\"Seema\""
   ]
  },
  {
   "cell_type": "code",
   "execution_count": 2,
   "id": "28f3e4db-133e-44d1-a81e-2e2f1db96573",
   "metadata": {},
   "outputs": [
    {
     "data": {
      "text/plain": [
       "'Seema'"
      ]
     },
     "execution_count": 2,
     "metadata": {},
     "output_type": "execute_result"
    }
   ],
   "source": [
    "s"
   ]
  },
  {
   "cell_type": "code",
   "execution_count": 3,
   "id": "c9a76478-f4a6-4811-a0fc-f7ae3e8d52fe",
   "metadata": {},
   "outputs": [],
   "source": [
    "list = [2,34,5.0,6.0,\"Radha\"]"
   ]
  },
  {
   "cell_type": "code",
   "execution_count": 4,
   "id": "0e549070-fa2e-40b7-8632-7419a0713555",
   "metadata": {},
   "outputs": [
    {
     "data": {
      "text/plain": [
       "[2, 34, 5.0, 6.0, 'Radha']"
      ]
     },
     "execution_count": 4,
     "metadata": {},
     "output_type": "execute_result"
    }
   ],
   "source": [
    "list"
   ]
  },
  {
   "cell_type": "code",
   "execution_count": 6,
   "id": "36c106a6-b89d-4cf5-a9f6-004a7160b39e",
   "metadata": {},
   "outputs": [],
   "source": [
    "tuple=(5,7,9,6.5,\"Seema\")"
   ]
  },
  {
   "cell_type": "code",
   "execution_count": 7,
   "id": "f5332583-eb4a-4362-8b35-12b448bae17d",
   "metadata": {},
   "outputs": [
    {
     "data": {
      "text/plain": [
       "(5, 7, 9, 6.5, 'Seema')"
      ]
     },
     "execution_count": 7,
     "metadata": {},
     "output_type": "execute_result"
    }
   ],
   "source": [
    "tuple"
   ]
  },
  {
   "cell_type": "code",
   "execution_count": 8,
   "id": "5e7e6c26-d795-4b6e-ac7d-7d65f98d0833",
   "metadata": {},
   "outputs": [
    {
     "data": {
      "text/plain": [
       "tuple"
      ]
     },
     "execution_count": 8,
     "metadata": {},
     "output_type": "execute_result"
    }
   ],
   "source": [
    "type(tuple)"
   ]
  },
  {
   "cell_type": "code",
   "execution_count": 11,
   "id": "2a443586-1ce8-401c-90bd-7e5ed70d0701",
   "metadata": {},
   "outputs": [
    {
     "name": "stdout",
     "output_type": "stream",
     "text": [
      "['Seema', [2, 34, 5.0, 6.0, 'Radha'], (5, 7, 9, 6.5, 'Seema')]\n"
     ]
    }
   ],
   "source": [
    "a=[]\n",
    "a.append(s)\n",
    "a.append(list)\n",
    "a.append(tuple)\n",
    "print(a)"
   ]
  },
  {
   "cell_type": "markdown",
   "id": "b308f883-9718-48f1-a673-9b493451dbb3",
   "metadata": {},
   "source": [
    "Ans-2 some following variables containing data:\n",
    "\n",
    "(i) var1 = ‘ ‘\n",
    "\n",
    "(ii) var2 = ‘[ DS , ML , Python]’\n",
    "\n",
    "(iii) var3 = [ ‘DS’ , ’ML’ , ‘Python’ ]\n",
    "\n",
    "(iv) var4 = 1."
   ]
  },
  {
   "cell_type": "code",
   "execution_count": 36,
   "id": "b76f36cf-ab46-46e5-8e0f-13163679ca2a",
   "metadata": {},
   "outputs": [],
   "source": [
    "var1 = ' ' "
   ]
  },
  {
   "cell_type": "code",
   "execution_count": 45,
   "id": "5b6f27d9-aed5-43eb-a409-a0e9b6d04c02",
   "metadata": {},
   "outputs": [
    {
     "data": {
      "text/plain": [
       "str"
      ]
     },
     "execution_count": 45,
     "metadata": {},
     "output_type": "execute_result"
    }
   ],
   "source": [
    "type(var1)"
   ]
  },
  {
   "cell_type": "code",
   "execution_count": 42,
   "id": "742d371e-8f57-4f36-84d3-b75c5d25284a",
   "metadata": {},
   "outputs": [],
   "source": [
    " var2 = [ \"DS\" , \"ML\" , \"Python\"]"
   ]
  },
  {
   "cell_type": "code",
   "execution_count": 44,
   "id": "f1c6138e-df78-45dd-bfcd-af1956d6fd63",
   "metadata": {},
   "outputs": [
    {
     "data": {
      "text/plain": [
       "list"
      ]
     },
     "execution_count": 44,
     "metadata": {},
     "output_type": "execute_result"
    }
   ],
   "source": [
    "type(var2)"
   ]
  },
  {
   "cell_type": "code",
   "execution_count": 28,
   "id": "c2d19181-da8a-47d2-8fcc-c67ca6077ef8",
   "metadata": {},
   "outputs": [
    {
     "data": {
      "text/plain": [
       "['DS', 'ML', 'Python']"
      ]
     },
     "execution_count": 28,
     "metadata": {},
     "output_type": "execute_result"
    }
   ],
   "source": [
    "var3"
   ]
  },
  {
   "cell_type": "code",
   "execution_count": 46,
   "id": "7d2457ce-b0fe-4921-824d-c37a8e5df8f4",
   "metadata": {},
   "outputs": [],
   "source": [
    "var4 = 1."
   ]
  },
  {
   "cell_type": "code",
   "execution_count": 47,
   "id": "c8c867b8-45f1-4895-bb88-c40798a49c32",
   "metadata": {},
   "outputs": [
    {
     "data": {
      "text/plain": [
       "float"
      ]
     },
     "execution_count": 47,
     "metadata": {},
     "output_type": "execute_result"
    }
   ],
   "source": [
    "type(var4)"
   ]
  },
  {
   "cell_type": "markdown",
   "id": "a2e3801e-d8c5-4e9c-86bf-2b0c50d53a6d",
   "metadata": {},
   "source": [
    "Ans - 3"
   ]
  },
  {
   "cell_type": "code",
   "execution_count": 50,
   "id": "4110257e-870f-4a6c-8add-a832cc21fbad",
   "metadata": {},
   "outputs": [
    {
     "name": "stdout",
     "output_type": "stream",
     "text": [
      "0.8\n",
      "40\n",
      "0\n",
      "126765060022822940149670320537600000000000000000000000000000000000000000000000000\n"
     ]
    }
   ],
   "source": [
    "a=40\n",
    "b=50\n",
    "print(a/b)\n",
    "print(a%b)\n",
    "print(a//b)\n",
    "print(a**b)"
   ]
  },
  {
   "cell_type": "markdown",
   "id": "de8bcb23-53b8-4aae-a121-16957654ed9d",
   "metadata": {},
   "source": [
    "Ans-4"
   ]
  },
  {
   "cell_type": "code",
   "execution_count": 56,
   "id": "60e6a1e4-8eb1-4958-83b7-bff726c000f7",
   "metadata": {},
   "outputs": [
    {
     "name": "stdout",
     "output_type": "stream",
     "text": [
      "2\n",
      "<class 'int'>\n",
      "3\n",
      "<class 'int'>\n",
      "4\n",
      "<class 'int'>\n",
      "5\n",
      "<class 'int'>\n",
      "Seema\n",
      "<class 'str'>\n",
      "Dabas\n",
      "<class 'str'>\n",
      "25.65\n",
      "<class 'float'>\n",
      "89.45\n",
      "<class 'float'>\n",
      "True\n",
      "<class 'bool'>\n",
      "pwskills\n",
      "<class 'str'>\n"
     ]
    }
   ],
   "source": [
    "list = [2,3,4,5,\"Seema\", \"Dabas\", 25.65,89.45,True, \"pwskills\"]\n",
    "for i in list:\n",
    "    print(i)\n",
    "    print(type(i))    "
   ]
  },
  {
   "cell_type": "markdown",
   "id": "3680c9c2-48bf-4480-81cc-022c73a217eb",
   "metadata": {},
   "source": [
    "Ans-5"
   ]
  },
  {
   "cell_type": "code",
   "execution_count": 3,
   "id": "7a5f009e-b320-4c77-af77-d6027231870d",
   "metadata": {},
   "outputs": [
    {
     "name": "stdin",
     "output_type": "stream",
     "text": [
      " 5\n",
      " 2\n"
     ]
    },
    {
     "name": "stdout",
     "output_type": "stream",
     "text": [
      "not divisible\n"
     ]
    }
   ],
   "source": [
    "a=int(input())\n",
    "b=int(input())\n",
    "c=0\n",
    "if a/b==0:\n",
    "    print(\"a is divisible by b\")\n",
    "    while(a/b>=b and type(a/b)==int):\n",
    "        c+=1\n",
    "        a/=b\n",
    "    c\n",
    "else:\n",
    "    print(\"not divisible\")"
   ]
  },
  {
   "cell_type": "code",
   "execution_count": 16,
   "id": "f7ecc088-935b-4383-bcd4-6cf82b136a52",
   "metadata": {},
   "outputs": [
    {
     "name": "stdout",
     "output_type": "stream",
     "text": [
      "not divisible by 3\n",
      "not divisible by 3\n",
      "Yes Divisible by 3\n",
      "not divisible by 3\n",
      "not divisible by 3\n",
      "Yes Divisible by 3\n",
      "not divisible by 3\n",
      "not divisible by 3\n",
      "Yes Divisible by 3\n",
      "not divisible by 3\n",
      "not divisible by 3\n",
      "Yes Divisible by 3\n",
      "not divisible by 3\n",
      "not divisible by 3\n",
      "Yes Divisible by 3\n",
      "not divisible by 3\n",
      "not divisible by 3\n",
      "Yes Divisible by 3\n",
      "not divisible by 3\n",
      "not divisible by 3\n",
      "Yes Divisible by 3\n",
      "not divisible by 3\n",
      "not divisible by 3\n",
      "Yes Divisible by 3\n",
      "not divisible by 3\n"
     ]
    }
   ],
   "source": [
    "a = [1,2,3,4,5,6,7,8,9,10,11,12,13,14,15,16,17,18,19,20,21,22,23,24,25]\n",
    "i = [a]\n",
    "b = []\n",
    "for i in a:\n",
    "    if i%3==0:\n",
    "        print(\"Yes Divisible by 3\")\n",
    "    else:\n",
    "        print(\"not divisible by 3\")"
   ]
  },
  {
   "cell_type": "markdown",
   "id": "b0435b33-d4a8-4f4b-878e-272f1f37572e",
   "metadata": {},
   "source": [
    "Ans-7:- Mutable objects are those objects which can be modified after created for example lists, dictionaries, and sets. and immutable objects can't be modified after created like strings, tuples.Examples given below:-"
   ]
  },
  {
   "cell_type": "code",
   "execution_count": 17,
   "id": "08c287e6-7c60-4ce3-9a65-cd985e2cda6d",
   "metadata": {},
   "outputs": [],
   "source": [
    "list1 = [\"Seema\",\"Dabas\", \"pwskills\"]"
   ]
  },
  {
   "cell_type": "code",
   "execution_count": 24,
   "id": "246eadad-a02a-4890-80c4-360c2b5f2ebd",
   "metadata": {},
   "outputs": [
    {
     "name": "stdout",
     "output_type": "stream",
     "text": [
      "4\n"
     ]
    }
   ],
   "source": [
    "print(len(list1))"
   ]
  },
  {
   "cell_type": "code",
   "execution_count": 18,
   "id": "d4d1e978-cb83-4e54-b6dc-94968a064b0a",
   "metadata": {},
   "outputs": [],
   "source": [
    "list1.insert(2, [8,9,10])"
   ]
  },
  {
   "cell_type": "code",
   "execution_count": 19,
   "id": "e5090da8-6904-4f1d-abe6-78e98c7f7cd3",
   "metadata": {},
   "outputs": [
    {
     "data": {
      "text/plain": [
       "['Seema', 'Dabas', [8, 9, 10], 'pwskills']"
      ]
     },
     "execution_count": 19,
     "metadata": {},
     "output_type": "execute_result"
    }
   ],
   "source": [
    "list1"
   ]
  },
  {
   "cell_type": "code",
   "execution_count": 23,
   "id": "49b8e1a4-f14c-41f3-a5e8-ba5d056b53df",
   "metadata": {},
   "outputs": [
    {
     "name": "stdout",
     "output_type": "stream",
     "text": [
      "4\n"
     ]
    }
   ],
   "source": [
    "print(len(list1))"
   ]
  },
  {
   "cell_type": "code",
   "execution_count": 20,
   "id": "4ae9e64c-3a76-437a-831e-692740e1b670",
   "metadata": {},
   "outputs": [],
   "source": [
    "tuple = (5,6,7,8,\"Seema\", \"DS\")"
   ]
  },
  {
   "cell_type": "code",
   "execution_count": 21,
   "id": "c919e27a-84e7-46ea-9983-ab9eac86b1d7",
   "metadata": {},
   "outputs": [
    {
     "data": {
      "text/plain": [
       "tuple"
      ]
     },
     "execution_count": 21,
     "metadata": {},
     "output_type": "execute_result"
    }
   ],
   "source": [
    "type(tuple)"
   ]
  },
  {
   "cell_type": "code",
   "execution_count": 22,
   "id": "46d04e65-42bc-4a8c-9bf0-255e1ec23a72",
   "metadata": {},
   "outputs": [
    {
     "name": "stdout",
     "output_type": "stream",
     "text": [
      "6\n"
     ]
    }
   ],
   "source": [
    "print(len(tuple))"
   ]
  },
  {
   "cell_type": "code",
   "execution_count": 25,
   "id": "ebf5c821-9853-4179-9731-e75d06275fca",
   "metadata": {},
   "outputs": [
    {
     "ename": "AttributeError",
     "evalue": "'tuple' object has no attribute 'insert'",
     "output_type": "error",
     "traceback": [
      "\u001b[0;31m---------------------------------------------------------------------------\u001b[0m",
      "\u001b[0;31mAttributeError\u001b[0m                            Traceback (most recent call last)",
      "Cell \u001b[0;32mIn[25], line 1\u001b[0m\n\u001b[0;32m----> 1\u001b[0m \u001b[38;5;28;43mtuple\u001b[39;49m\u001b[38;5;241;43m.\u001b[39;49m\u001b[43minsert\u001b[49m(\u001b[38;5;241m2\u001b[39m,\u001b[38;5;241m3\u001b[39m,\u001b[38;5;241m4\u001b[39m)\n",
      "\u001b[0;31mAttributeError\u001b[0m: 'tuple' object has no attribute 'insert'"
     ]
    }
   ],
   "source": [
    "tuple.insert(2,3,4)"
   ]
  },
  {
   "cell_type": "code",
   "execution_count": null,
   "id": "c123ab08-e7fc-4f2e-9a62-0ebf694e980e",
   "metadata": {},
   "outputs": [],
   "source": []
  }
 ],
 "metadata": {
  "kernelspec": {
   "display_name": "Python 3 (ipykernel)",
   "language": "python",
   "name": "python3"
  },
  "language_info": {
   "codemirror_mode": {
    "name": "ipython",
    "version": 3
   },
   "file_extension": ".py",
   "mimetype": "text/x-python",
   "name": "python",
   "nbconvert_exporter": "python",
   "pygments_lexer": "ipython3",
   "version": "3.10.8"
  }
 },
 "nbformat": 4,
 "nbformat_minor": 5
}
