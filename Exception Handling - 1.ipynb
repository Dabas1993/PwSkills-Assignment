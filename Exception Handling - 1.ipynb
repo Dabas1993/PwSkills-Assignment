{
 "cells": [
  {
   "cell_type": "markdown",
   "id": "90526839-54f0-416a-903f-5c2e9b4bbfd6",
   "metadata": {},
   "source": [
    "\n",
    "Ans-1 \n",
    "An error is an issue in a program that prevents the program from completing its task. In comparison, an exception is a condition that interrupts the normal flow of the program. Both errors and exceptions are a type of runtime error, which means they occur during the execution of a program."
   ]
  },
  {
   "cell_type": "markdown",
   "id": "6aee3b0d-7873-4914-90be-38d07d695973",
   "metadata": {},
   "source": [
    "Ans -2 \n",
    "If not handled in the code, causes the interpreter to exit. Raised when an operation or function is attempted that is invalid for the specified data type. Raised when the built-in function for a data type has the valid type of arguments, but the arguments have invalid values specified. Example is Given Below:-"
   ]
  },
  {
   "cell_type": "code",
   "execution_count": 1,
   "id": "3dfe7012-ecca-4657-996a-493ae419b40c",
   "metadata": {},
   "outputs": [
    {
     "ename": "Exception",
     "evalue": "Sorry, no numbers below zero",
     "output_type": "error",
     "traceback": [
      "\u001b[0;31m---------------------------------------------------------------------------\u001b[0m",
      "\u001b[0;31mException\u001b[0m                                 Traceback (most recent call last)",
      "Cell \u001b[0;32mIn[1], line 4\u001b[0m\n\u001b[1;32m      1\u001b[0m x \u001b[38;5;241m=\u001b[39m \u001b[38;5;241m-\u001b[39m\u001b[38;5;241m1\u001b[39m\n\u001b[1;32m      3\u001b[0m \u001b[38;5;28;01mif\u001b[39;00m x \u001b[38;5;241m<\u001b[39m \u001b[38;5;241m0\u001b[39m:\n\u001b[0;32m----> 4\u001b[0m   \u001b[38;5;28;01mraise\u001b[39;00m \u001b[38;5;167;01mException\u001b[39;00m(\u001b[38;5;124m\"\u001b[39m\u001b[38;5;124mSorry, no numbers below zero\u001b[39m\u001b[38;5;124m\"\u001b[39m)\n",
      "\u001b[0;31mException\u001b[0m: Sorry, no numbers below zero"
     ]
    }
   ],
   "source": [
    "x = -1\n",
    "\n",
    "if x < 0:\n",
    "  raise Exception(\"Sorry, no numbers below zero\")"
   ]
  },
  {
   "cell_type": "code",
   "execution_count": 4,
   "id": "3b50f49e-82db-4598-87d0-314bdcdef097",
   "metadata": {},
   "outputs": [
    {
     "name": "stdout",
     "output_type": "stream",
     "text": [
      "Hello\n",
      "Nothing went wrong\n",
      "-1\n",
      "The 'try except' is finished\n"
     ]
    },
    {
     "ename": "TypeError",
     "evalue": "Only integers are allowed",
     "output_type": "error",
     "traceback": [
      "\u001b[0;31m---------------------------------------------------------------------------\u001b[0m",
      "\u001b[0;31mTypeError\u001b[0m                                 Traceback (most recent call last)",
      "Cell \u001b[0;32mIn[4], line 23\u001b[0m\n\u001b[1;32m     20\u001b[0m x \u001b[38;5;241m=\u001b[39m \u001b[38;5;124m\"\u001b[39m\u001b[38;5;124mhello\u001b[39m\u001b[38;5;124m\"\u001b[39m\n\u001b[1;32m     22\u001b[0m \u001b[38;5;28;01mif\u001b[39;00m \u001b[38;5;129;01mnot\u001b[39;00m \u001b[38;5;28mtype\u001b[39m(x) \u001b[38;5;129;01mis\u001b[39;00m \u001b[38;5;28mint\u001b[39m:\n\u001b[0;32m---> 23\u001b[0m   \u001b[38;5;28;01mraise\u001b[39;00m \u001b[38;5;167;01mTypeError\u001b[39;00m(\u001b[38;5;124m\"\u001b[39m\u001b[38;5;124mOnly integers are allowed\u001b[39m\u001b[38;5;124m\"\u001b[39m)\n",
      "\u001b[0;31mTypeError\u001b[0m: Only integers are allowed"
     ]
    }
   ],
   "source": [
    "# Ans-3 Example of Try & Else:-\n",
    "try:\n",
    "  print(\"Hello\")\n",
    "except:\n",
    "  print(\"Something went wrong\")\n",
    "else:\n",
    "  print(\"Nothing went wrong\")\n",
    "\n",
    "# Example of Finally\n",
    "\n",
    "try:\n",
    "  print(x)\n",
    "except:\n",
    "  print(\"Something went wrong\")\n",
    "finally:\n",
    "  print(\"The 'try except' is finished\")\n",
    "\n",
    "# Example of Raise\n",
    "\n",
    "x = \"hello\"\n",
    "\n",
    "if not type(x) is int:\n",
    "  raise TypeError(\"Only integers are allowed\")\n"
   ]
  },
  {
   "cell_type": "markdown",
   "id": "680c059e-d936-4c20-a24f-36a23aae781a",
   "metadata": {},
   "source": [
    "Ans- 5\n",
    " If users enter a value that is not in this range, you want to raise a custom exception e.g., validateage . Example is given below"
   ]
  },
  {
   "cell_type": "code",
   "execution_count": 5,
   "id": "f70b3314-6ab4-4ee5-af5f-19080e3913f2",
   "metadata": {},
   "outputs": [],
   "source": [
    "class validateage(Exception):\n",
    "    \n",
    "    def __init__(self, msg):\n",
    "        self.msg = msg"
   ]
  },
  {
   "cell_type": "code",
   "execution_count": 6,
   "id": "1b102d35-cb0e-4934-ab6b-87557ad71914",
   "metadata": {},
   "outputs": [],
   "source": [
    "def validateage(age):\n",
    "    if age<0:\n",
    "        raise validateage(\"Enter age is negative\" )\n",
    "    elif age>200:\n",
    "        raise validateage(\"Enter age is very very high\")\n",
    "    else :\n",
    "        print(\"age is valid\")"
   ]
  },
  {
   "cell_type": "code",
   "execution_count": 7,
   "id": "4bc50991-a974-40f1-81fa-2034cf55b944",
   "metadata": {},
   "outputs": [
    {
     "name": "stdin",
     "output_type": "stream",
     "text": [
      "enter your age 35\n"
     ]
    },
    {
     "name": "stdout",
     "output_type": "stream",
     "text": [
      "age is valid\n"
     ]
    }
   ],
   "source": [
    "try :\n",
    "    age = int(input(\"enter your age\"))\n",
    "    validateage(age)\n",
    "except validateage as e :\n",
    "    print(e)"
   ]
  },
  {
   "cell_type": "markdown",
   "id": "bb509aac-cfb6-49cb-b450-cde3ec9b5307",
   "metadata": {},
   "source": [
    "Ans- 6 \n",
    "#### Create a custom exception class "
   ]
  },
  {
   "cell_type": "code",
   "execution_count": 11,
   "id": "06a0a642-8801-4b0d-b788-a0bd49114268",
   "metadata": {},
   "outputs": [],
   "source": [
    "class studentrecord(Exception):\n",
    "    \n",
    "    def __init__(self, msg):\n",
    "        self.msg = msg"
   ]
  },
  {
   "cell_type": "code",
   "execution_count": 14,
   "id": "cb83ae1e-5f4c-45df-a28b-6ed19e55c77c",
   "metadata": {},
   "outputs": [],
   "source": [
    "def studentrecord(roll_no):\n",
    "    if roll_no<0:\n",
    "        raise studentrecord(\"Enter roll_no is not valid\" )\n",
    "    elif roll_no>200:\n",
    "        raise studentrecord(\"Enter roll_no is valid\")\n",
    "    else :\n",
    "        print(\"roll_no is added\")"
   ]
  },
  {
   "cell_type": "code",
   "execution_count": 15,
   "id": "7456dfd9-7c82-474e-904f-03b4c90d3267",
   "metadata": {},
   "outputs": [
    {
     "name": "stdin",
     "output_type": "stream",
     "text": [
      "enter your roll_no 45\n"
     ]
    },
    {
     "name": "stdout",
     "output_type": "stream",
     "text": [
      "roll_no is added\n"
     ]
    }
   ],
   "source": [
    "try :\n",
    "    roll_no = int(input(\"enter your roll_no\"))\n",
    "    studentrecord(roll_no)\n",
    "except studentrecord as e :\n",
    "    print(e)"
   ]
  },
  {
   "cell_type": "code",
   "execution_count": null,
   "id": "42d69094-5aac-4b48-9f22-466dd2369d07",
   "metadata": {},
   "outputs": [],
   "source": []
  }
 ],
 "metadata": {
  "kernelspec": {
   "display_name": "Python 3 (ipykernel)",
   "language": "python",
   "name": "python3"
  },
  "language_info": {
   "codemirror_mode": {
    "name": "ipython",
    "version": 3
   },
   "file_extension": ".py",
   "mimetype": "text/x-python",
   "name": "python",
   "nbconvert_exporter": "python",
   "pygments_lexer": "ipython3",
   "version": "3.10.8"
  }
 },
 "nbformat": 4,
 "nbformat_minor": 5
}
