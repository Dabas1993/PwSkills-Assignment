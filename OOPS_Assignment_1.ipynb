{
 "cells": [
  {
   "cell_type": "markdown",
   "id": "1411dc29-b0c1-45e2-8fc2-b8a7de61443c",
   "metadata": {},
   "source": [
    "Q1. Explain Class and Object with respect to Object-Oriented Programming. Give a suitable example.\n",
    "Ans-1 - Class is the blueprint of any code. in class there is no memory alloacted till we do not create any object. object tell us the behviour of the class. for example we define class animal in that class we create object to clarify the animals like what is the name of animal and behviour of that object. a small example of class and object is given below:-"
   ]
  },
  {
   "cell_type": "code",
   "execution_count": 1,
   "id": "e9404caf-4571-4810-bbaf-02d9d2595ac0",
   "metadata": {},
   "outputs": [],
   "source": [
    "class phone:\n",
    "    def __init__(self, name, model_no):\n",
    "        self.name = name\n",
    "        self.model_no. = model_no\n",
    "        \n",
    "        print(self.name)\n"
   ]
  },
  {
   "cell_type": "code",
   "execution_count": 2,
   "id": "6235cebb-80c2-41a4-a757-e229e0317573",
   "metadata": {},
   "outputs": [
    {
     "name": "stdout",
     "output_type": "stream",
     "text": [
      "samsung\n"
     ]
    }
   ],
   "source": [
    "phone1 = phone('samsung', 'as')"
   ]
  },
  {
   "cell_type": "markdown",
   "id": "a6ba3a11-a1e8-47f6-9168-4a60e7b5d822",
   "metadata": {},
   "source": [
    "Q2. Name the four pillars of OOPs.\n",
    "\n",
    "Ans - There are main 4 pillars of OOPs\n",
    "\n",
    "a. Encapsulation\n",
    "\n",
    "b. Polymorphism\n",
    "\n",
    "c. Inheritance\n",
    "\n",
    "d. Absaction\n"
   ]
  },
  {
   "cell_type": "markdown",
   "id": "93016d4d-ca5f-4384-9e14-6231269a7fea",
   "metadata": {},
   "source": [
    "Q3. Explain why the __init__() function is used. Give a suitable example.\n",
    "Ans. The __init__ method lets the class initialize the object's attributes and serves no other purpose. It is only used within classes.\n",
    "\n",
    "class pwskills:\n",
    "  \n",
    "  def __init__(self, name, class):\n",
    "        self.name = name\n",
    "        self.class = class\n",
    "    return (self)"
   ]
  },
  {
   "cell_type": "markdown",
   "id": "552adc4a-0ea1-413c-ab6a-509c924fe9a1",
   "metadata": {},
   "source": [
    "Q4. Why self is used in OOPs?\n",
    "\n",
    "Ans - This handy keyword allows you to access variables, attributes, and methods of a defined class in Python. it is not complusory to used self we used another keyword to access variables, attributes and methods of a defined class."
   ]
  },
  {
   "cell_type": "markdown",
   "id": "49ad9ca8-f262-429d-89c0-bf122829a6d5",
   "metadata": {},
   "source": [
    "Q5. What is inheritance? Give an example for each type of inheritance.\n",
    "Ans - when a class inherit the propertiesd of another class as a parent is called inheritance. There are five types of inheritance in python programming:\n",
    "\n",
    "1). Single inheritance\n",
    "\n",
    "2). Multiple inheritances\n",
    "\n",
    "3). Multilevel inheritance\n",
    "\n",
    "4). Hierarchical inheritance\n",
    "\n",
    "5). Hybrid inheritance\n",
    "\n",
    "examples of inheritance given below:-\n"
   ]
  },
  {
   "cell_type": "code",
   "execution_count": 1,
   "id": "a96be9f5-0a07-402f-8217-488d95addd20",
   "metadata": {},
   "outputs": [],
   "source": [
    "class parent:\n",
    "    def test_child(self):\n",
    "        return 'this is my first class'"
   ]
  },
  {
   "cell_type": "code",
   "execution_count": 2,
   "id": "2b1594fb-06c2-480f-977d-454ee5981f42",
   "metadata": {},
   "outputs": [],
   "source": [
    "class child_test(parent):\n",
    "    pass"
   ]
  },
  {
   "cell_type": "code",
   "execution_count": 3,
   "id": "3d5fd2d4-0698-4817-be8c-b08277122d96",
   "metadata": {},
   "outputs": [],
   "source": [
    "child_test_obj = child_test()"
   ]
  },
  {
   "cell_type": "code",
   "execution_count": 4,
   "id": "8e0295c7-adf1-4b53-a04f-4a4edfa49c57",
   "metadata": {},
   "outputs": [
    {
     "data": {
      "text/plain": [
       "'this is my first class'"
      ]
     },
     "execution_count": 4,
     "metadata": {},
     "output_type": "execute_result"
    }
   ],
   "source": [
    "child_test_obj.test_child()"
   ]
  },
  {
   "cell_type": "markdown",
   "id": "cb319314-2d65-420a-9281-428b2ae3ede8",
   "metadata": {},
   "source": [
    "MULTI LEVEL INHERITANCE EXAMPLE"
   ]
  },
  {
   "cell_type": "code",
   "execution_count": 6,
   "id": "718207cf-fe54-4203-8f0d-dd847f2ba2a6",
   "metadata": {},
   "outputs": [],
   "source": [
    "class demo1:\n",
    "    \n",
    "    def test_demo1(self):\n",
    "        return \"This is my method from class1\""
   ]
  },
  {
   "cell_type": "code",
   "execution_count": 7,
   "id": "ad3e79ac-0571-49a8-9df2-083910509b8d",
   "metadata": {},
   "outputs": [],
   "source": [
    "class demo2(demo1):\n",
    "        def test_demo2(self):\n",
    "            return\"this is my method from class2\""
   ]
  },
  {
   "cell_type": "code",
   "execution_count": 8,
   "id": "8a5d1689-bb9a-4c89-ac6e-0c2b543c6a4d",
   "metadata": {},
   "outputs": [],
   "source": [
    "class demo3(demo2):\n",
    "        pass"
   ]
  },
  {
   "cell_type": "code",
   "execution_count": 9,
   "id": "dcd98be0-cca5-4073-baff-630f11919a3d",
   "metadata": {},
   "outputs": [],
   "source": [
    "obj_demo3=demo3()"
   ]
  },
  {
   "cell_type": "code",
   "execution_count": 10,
   "id": "1534eb8c-e2b6-4a85-941b-33beda6522cb",
   "metadata": {},
   "outputs": [
    {
     "data": {
      "text/plain": [
       "'this is my method from class2'"
      ]
     },
     "execution_count": 10,
     "metadata": {},
     "output_type": "execute_result"
    }
   ],
   "source": [
    "obj_demo3.test_demo2()"
   ]
  },
  {
   "cell_type": "code",
   "execution_count": 12,
   "id": "5009c2cd-bc9c-40fc-8a76-d005b2ae9fd7",
   "metadata": {},
   "outputs": [
    {
     "data": {
      "text/plain": [
       "'This is my method from class1'"
      ]
     },
     "execution_count": 12,
     "metadata": {},
     "output_type": "execute_result"
    }
   ],
   "source": [
    "obj_demo3.test_demo1()"
   ]
  },
  {
   "cell_type": "markdown",
   "id": "d521ffa0-21e0-4ef9-bdf4-ddcca24bb9a9",
   "metadata": {},
   "source": [
    "MULTIPLE INHERITANCE EXAMPLE"
   ]
  },
  {
   "cell_type": "code",
   "execution_count": 20,
   "id": "3fdabbe3-c195-4ddb-84ae-1b0b8b6af01c",
   "metadata": {},
   "outputs": [],
   "source": [
    "class class1:\n",
    "    \n",
    "    def test_class1(self):\n",
    "        return \"This is my class1\""
   ]
  },
  {
   "cell_type": "code",
   "execution_count": 22,
   "id": "59a22a1b-386b-46d7-9708-734f82e433e9",
   "metadata": {},
   "outputs": [],
   "source": [
    "class class2:\n",
    "    \n",
    "    def test_class2(self):\n",
    "        return\"this is my class2\""
   ]
  },
  {
   "cell_type": "code",
   "execution_count": 23,
   "id": "07ccb1aa-f9ff-401f-8fcc-f3f09c2cbbd1",
   "metadata": {},
   "outputs": [],
   "source": [
    "class class3(class1, class2):\n",
    "    pass"
   ]
  },
  {
   "cell_type": "code",
   "execution_count": 24,
   "id": "68551261-8c05-4bda-88a7-07c895564776",
   "metadata": {},
   "outputs": [],
   "source": [
    "obj_class3 = class3()"
   ]
  },
  {
   "cell_type": "code",
   "execution_count": 25,
   "id": "6b457b4c-0e6b-4ecb-b94f-e8cce4baca21",
   "metadata": {},
   "outputs": [
    {
     "data": {
      "text/plain": [
       "'This is my class1'"
      ]
     },
     "execution_count": 25,
     "metadata": {},
     "output_type": "execute_result"
    }
   ],
   "source": [
    "obj_class3.test_class1()"
   ]
  },
  {
   "cell_type": "code",
   "execution_count": 26,
   "id": "a09a203f-0dce-484c-9d68-1629e7e70973",
   "metadata": {},
   "outputs": [
    {
     "data": {
      "text/plain": [
       "'this is my class2'"
      ]
     },
     "execution_count": 26,
     "metadata": {},
     "output_type": "execute_result"
    }
   ],
   "source": [
    "obj_class3.test_class2()"
   ]
  },
  {
   "cell_type": "code",
   "execution_count": null,
   "id": "31e08e83-a283-40e5-b797-059c4ab2cb72",
   "metadata": {},
   "outputs": [],
   "source": []
  }
 ],
 "metadata": {
  "kernelspec": {
   "display_name": "Python 3 (ipykernel)",
   "language": "python",
   "name": "python3"
  },
  "language_info": {
   "codemirror_mode": {
    "name": "ipython",
    "version": 3
   },
   "file_extension": ".py",
   "mimetype": "text/x-python",
   "name": "python",
   "nbconvert_exporter": "python",
   "pygments_lexer": "ipython3",
   "version": "3.10.8"
  }
 },
 "nbformat": 4,
 "nbformat_minor": 5
}
